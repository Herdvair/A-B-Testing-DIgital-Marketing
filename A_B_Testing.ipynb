{
  "cells": [
    {
      "cell_type": "markdown",
      "metadata": {
        "id": "view-in-github",
        "colab_type": "text"
      },
      "source": [
        "<a href=\"https://colab.research.google.com/github/Herdvair/A-B-Testing-DIgital-Marketing/blob/main/A_B_Testing.ipynb\" target=\"_parent\"><img src=\"https://colab.research.google.com/assets/colab-badge.svg\" alt=\"Open In Colab\"/></a>"
      ]
    },
    {
      "cell_type": "code",
      "execution_count": null,
      "metadata": {
        "id": "iVH_XXyH0IS-"
      },
      "outputs": [],
      "source": [
        "import pandas as pd\n",
        "import numpy as np\n",
        "import os\n",
        "\n",
        "pd.options.display.max_columns = 999\n",
        "pd.options.display.float_format = \"{:.2f}\".format"
      ]
    },
    {
      "cell_type": "code",
      "execution_count": null,
      "metadata": {
        "colab": {
          "base_uri": "https://localhost:8080/",
          "height": 206
        },
        "id": "oaujRvDV09Up",
        "outputId": "9a592692-d3eb-47ca-aca0-adb81dfc49d9"
      },
      "outputs": [
        {
          "output_type": "execute_result",
          "data": {
            "text/plain": [
              "   Unnamed: 0  user id test group  converted  total ads most ads day  \\\n",
              "0           0  1069124         ad      False        130       Monday   \n",
              "1           1  1119715         ad      False         93      Tuesday   \n",
              "2           2  1144181         ad      False         21      Tuesday   \n",
              "3           3  1435133         ad      False        355      Tuesday   \n",
              "4           4  1015700         ad      False        276       Friday   \n",
              "\n",
              "   most ads hour  \n",
              "0             20  \n",
              "1             22  \n",
              "2             18  \n",
              "3             10  \n",
              "4             14  "
            ],
            "text/html": [
              "\n",
              "  <div id=\"df-0c165f2f-eeab-4006-9bc8-fb3951fcc37d\" class=\"colab-df-container\">\n",
              "    <div>\n",
              "<style scoped>\n",
              "    .dataframe tbody tr th:only-of-type {\n",
              "        vertical-align: middle;\n",
              "    }\n",
              "\n",
              "    .dataframe tbody tr th {\n",
              "        vertical-align: top;\n",
              "    }\n",
              "\n",
              "    .dataframe thead th {\n",
              "        text-align: right;\n",
              "    }\n",
              "</style>\n",
              "<table border=\"1\" class=\"dataframe\">\n",
              "  <thead>\n",
              "    <tr style=\"text-align: right;\">\n",
              "      <th></th>\n",
              "      <th>Unnamed: 0</th>\n",
              "      <th>user id</th>\n",
              "      <th>test group</th>\n",
              "      <th>converted</th>\n",
              "      <th>total ads</th>\n",
              "      <th>most ads day</th>\n",
              "      <th>most ads hour</th>\n",
              "    </tr>\n",
              "  </thead>\n",
              "  <tbody>\n",
              "    <tr>\n",
              "      <th>0</th>\n",
              "      <td>0</td>\n",
              "      <td>1069124</td>\n",
              "      <td>ad</td>\n",
              "      <td>False</td>\n",
              "      <td>130</td>\n",
              "      <td>Monday</td>\n",
              "      <td>20</td>\n",
              "    </tr>\n",
              "    <tr>\n",
              "      <th>1</th>\n",
              "      <td>1</td>\n",
              "      <td>1119715</td>\n",
              "      <td>ad</td>\n",
              "      <td>False</td>\n",
              "      <td>93</td>\n",
              "      <td>Tuesday</td>\n",
              "      <td>22</td>\n",
              "    </tr>\n",
              "    <tr>\n",
              "      <th>2</th>\n",
              "      <td>2</td>\n",
              "      <td>1144181</td>\n",
              "      <td>ad</td>\n",
              "      <td>False</td>\n",
              "      <td>21</td>\n",
              "      <td>Tuesday</td>\n",
              "      <td>18</td>\n",
              "    </tr>\n",
              "    <tr>\n",
              "      <th>3</th>\n",
              "      <td>3</td>\n",
              "      <td>1435133</td>\n",
              "      <td>ad</td>\n",
              "      <td>False</td>\n",
              "      <td>355</td>\n",
              "      <td>Tuesday</td>\n",
              "      <td>10</td>\n",
              "    </tr>\n",
              "    <tr>\n",
              "      <th>4</th>\n",
              "      <td>4</td>\n",
              "      <td>1015700</td>\n",
              "      <td>ad</td>\n",
              "      <td>False</td>\n",
              "      <td>276</td>\n",
              "      <td>Friday</td>\n",
              "      <td>14</td>\n",
              "    </tr>\n",
              "  </tbody>\n",
              "</table>\n",
              "</div>\n",
              "    <div class=\"colab-df-buttons\">\n",
              "\n",
              "  <div class=\"colab-df-container\">\n",
              "    <button class=\"colab-df-convert\" onclick=\"convertToInteractive('df-0c165f2f-eeab-4006-9bc8-fb3951fcc37d')\"\n",
              "            title=\"Convert this dataframe to an interactive table.\"\n",
              "            style=\"display:none;\">\n",
              "\n",
              "  <svg xmlns=\"http://www.w3.org/2000/svg\" height=\"24px\" viewBox=\"0 -960 960 960\">\n",
              "    <path d=\"M120-120v-720h720v720H120Zm60-500h600v-160H180v160Zm220 220h160v-160H400v160Zm0 220h160v-160H400v160ZM180-400h160v-160H180v160Zm440 0h160v-160H620v160ZM180-180h160v-160H180v160Zm440 0h160v-160H620v160Z\"/>\n",
              "  </svg>\n",
              "    </button>\n",
              "\n",
              "  <style>\n",
              "    .colab-df-container {\n",
              "      display:flex;\n",
              "      gap: 12px;\n",
              "    }\n",
              "\n",
              "    .colab-df-convert {\n",
              "      background-color: #E8F0FE;\n",
              "      border: none;\n",
              "      border-radius: 50%;\n",
              "      cursor: pointer;\n",
              "      display: none;\n",
              "      fill: #1967D2;\n",
              "      height: 32px;\n",
              "      padding: 0 0 0 0;\n",
              "      width: 32px;\n",
              "    }\n",
              "\n",
              "    .colab-df-convert:hover {\n",
              "      background-color: #E2EBFA;\n",
              "      box-shadow: 0px 1px 2px rgba(60, 64, 67, 0.3), 0px 1px 3px 1px rgba(60, 64, 67, 0.15);\n",
              "      fill: #174EA6;\n",
              "    }\n",
              "\n",
              "    .colab-df-buttons div {\n",
              "      margin-bottom: 4px;\n",
              "    }\n",
              "\n",
              "    [theme=dark] .colab-df-convert {\n",
              "      background-color: #3B4455;\n",
              "      fill: #D2E3FC;\n",
              "    }\n",
              "\n",
              "    [theme=dark] .colab-df-convert:hover {\n",
              "      background-color: #434B5C;\n",
              "      box-shadow: 0px 1px 3px 1px rgba(0, 0, 0, 0.15);\n",
              "      filter: drop-shadow(0px 1px 2px rgba(0, 0, 0, 0.3));\n",
              "      fill: #FFFFFF;\n",
              "    }\n",
              "  </style>\n",
              "\n",
              "    <script>\n",
              "      const buttonEl =\n",
              "        document.querySelector('#df-0c165f2f-eeab-4006-9bc8-fb3951fcc37d button.colab-df-convert');\n",
              "      buttonEl.style.display =\n",
              "        google.colab.kernel.accessAllowed ? 'block' : 'none';\n",
              "\n",
              "      async function convertToInteractive(key) {\n",
              "        const element = document.querySelector('#df-0c165f2f-eeab-4006-9bc8-fb3951fcc37d');\n",
              "        const dataTable =\n",
              "          await google.colab.kernel.invokeFunction('convertToInteractive',\n",
              "                                                    [key], {});\n",
              "        if (!dataTable) return;\n",
              "\n",
              "        const docLinkHtml = 'Like what you see? Visit the ' +\n",
              "          '<a target=\"_blank\" href=https://colab.research.google.com/notebooks/data_table.ipynb>data table notebook</a>'\n",
              "          + ' to learn more about interactive tables.';\n",
              "        element.innerHTML = '';\n",
              "        dataTable['output_type'] = 'display_data';\n",
              "        await google.colab.output.renderOutput(dataTable, element);\n",
              "        const docLink = document.createElement('div');\n",
              "        docLink.innerHTML = docLinkHtml;\n",
              "        element.appendChild(docLink);\n",
              "      }\n",
              "    </script>\n",
              "  </div>\n",
              "\n",
              "\n",
              "    <div id=\"df-06a4e5f4-dc1d-438d-bab2-cf984ae33f84\">\n",
              "      <button class=\"colab-df-quickchart\" onclick=\"quickchart('df-06a4e5f4-dc1d-438d-bab2-cf984ae33f84')\"\n",
              "                title=\"Suggest charts\"\n",
              "                style=\"display:none;\">\n",
              "\n",
              "<svg xmlns=\"http://www.w3.org/2000/svg\" height=\"24px\"viewBox=\"0 0 24 24\"\n",
              "     width=\"24px\">\n",
              "    <g>\n",
              "        <path d=\"M19 3H5c-1.1 0-2 .9-2 2v14c0 1.1.9 2 2 2h14c1.1 0 2-.9 2-2V5c0-1.1-.9-2-2-2zM9 17H7v-7h2v7zm4 0h-2V7h2v10zm4 0h-2v-4h2v4z\"/>\n",
              "    </g>\n",
              "</svg>\n",
              "      </button>\n",
              "\n",
              "<style>\n",
              "  .colab-df-quickchart {\n",
              "      --bg-color: #E8F0FE;\n",
              "      --fill-color: #1967D2;\n",
              "      --hover-bg-color: #E2EBFA;\n",
              "      --hover-fill-color: #174EA6;\n",
              "      --disabled-fill-color: #AAA;\n",
              "      --disabled-bg-color: #DDD;\n",
              "  }\n",
              "\n",
              "  [theme=dark] .colab-df-quickchart {\n",
              "      --bg-color: #3B4455;\n",
              "      --fill-color: #D2E3FC;\n",
              "      --hover-bg-color: #434B5C;\n",
              "      --hover-fill-color: #FFFFFF;\n",
              "      --disabled-bg-color: #3B4455;\n",
              "      --disabled-fill-color: #666;\n",
              "  }\n",
              "\n",
              "  .colab-df-quickchart {\n",
              "    background-color: var(--bg-color);\n",
              "    border: none;\n",
              "    border-radius: 50%;\n",
              "    cursor: pointer;\n",
              "    display: none;\n",
              "    fill: var(--fill-color);\n",
              "    height: 32px;\n",
              "    padding: 0;\n",
              "    width: 32px;\n",
              "  }\n",
              "\n",
              "  .colab-df-quickchart:hover {\n",
              "    background-color: var(--hover-bg-color);\n",
              "    box-shadow: 0 1px 2px rgba(60, 64, 67, 0.3), 0 1px 3px 1px rgba(60, 64, 67, 0.15);\n",
              "    fill: var(--button-hover-fill-color);\n",
              "  }\n",
              "\n",
              "  .colab-df-quickchart-complete:disabled,\n",
              "  .colab-df-quickchart-complete:disabled:hover {\n",
              "    background-color: var(--disabled-bg-color);\n",
              "    fill: var(--disabled-fill-color);\n",
              "    box-shadow: none;\n",
              "  }\n",
              "\n",
              "  .colab-df-spinner {\n",
              "    border: 2px solid var(--fill-color);\n",
              "    border-color: transparent;\n",
              "    border-bottom-color: var(--fill-color);\n",
              "    animation:\n",
              "      spin 1s steps(1) infinite;\n",
              "  }\n",
              "\n",
              "  @keyframes spin {\n",
              "    0% {\n",
              "      border-color: transparent;\n",
              "      border-bottom-color: var(--fill-color);\n",
              "      border-left-color: var(--fill-color);\n",
              "    }\n",
              "    20% {\n",
              "      border-color: transparent;\n",
              "      border-left-color: var(--fill-color);\n",
              "      border-top-color: var(--fill-color);\n",
              "    }\n",
              "    30% {\n",
              "      border-color: transparent;\n",
              "      border-left-color: var(--fill-color);\n",
              "      border-top-color: var(--fill-color);\n",
              "      border-right-color: var(--fill-color);\n",
              "    }\n",
              "    40% {\n",
              "      border-color: transparent;\n",
              "      border-right-color: var(--fill-color);\n",
              "      border-top-color: var(--fill-color);\n",
              "    }\n",
              "    60% {\n",
              "      border-color: transparent;\n",
              "      border-right-color: var(--fill-color);\n",
              "    }\n",
              "    80% {\n",
              "      border-color: transparent;\n",
              "      border-right-color: var(--fill-color);\n",
              "      border-bottom-color: var(--fill-color);\n",
              "    }\n",
              "    90% {\n",
              "      border-color: transparent;\n",
              "      border-bottom-color: var(--fill-color);\n",
              "    }\n",
              "  }\n",
              "</style>\n",
              "\n",
              "      <script>\n",
              "        async function quickchart(key) {\n",
              "          const quickchartButtonEl =\n",
              "            document.querySelector('#' + key + ' button');\n",
              "          quickchartButtonEl.disabled = true;  // To prevent multiple clicks.\n",
              "          quickchartButtonEl.classList.add('colab-df-spinner');\n",
              "          try {\n",
              "            const charts = await google.colab.kernel.invokeFunction(\n",
              "                'suggestCharts', [key], {});\n",
              "          } catch (error) {\n",
              "            console.error('Error during call to suggestCharts:', error);\n",
              "          }\n",
              "          quickchartButtonEl.classList.remove('colab-df-spinner');\n",
              "          quickchartButtonEl.classList.add('colab-df-quickchart-complete');\n",
              "        }\n",
              "        (() => {\n",
              "          let quickchartButtonEl =\n",
              "            document.querySelector('#df-06a4e5f4-dc1d-438d-bab2-cf984ae33f84 button');\n",
              "          quickchartButtonEl.style.display =\n",
              "            google.colab.kernel.accessAllowed ? 'block' : 'none';\n",
              "        })();\n",
              "      </script>\n",
              "    </div>\n",
              "\n",
              "    </div>\n",
              "  </div>\n"
            ],
            "application/vnd.google.colaboratory.intrinsic+json": {
              "type": "dataframe",
              "variable_name": "df"
            }
          },
          "metadata": {},
          "execution_count": 2
        }
      ],
      "source": [
        "df = pd.read_csv('marketing_AB.csv')\n",
        "\n",
        "df.head()"
      ]
    },
    {
      "cell_type": "markdown",
      "metadata": {
        "id": "CcyWn4ZsEoKS"
      },
      "source": [
        "**Data Description**\n",
        "\n",
        "- user id : id pengguna secara unik\n",
        "- test group : jika \"ads\" maka user tersebut melihat iklan, jika \"psa\" maka user melihat pengumuman layanan masyarakat\n",
        "- converted : \"True\" jika user membeli produk, \"False\" jika tidak\n",
        "- total ads : jumlah iklan yang dilihat oleh user\n",
        "- most ads days : hari dimana user tersebut melihat jumlah iklan terbanyak\n",
        "- most ads hour : jam dalam sehari dimana user melihat jumlah iklan terbanyak"
      ]
    },
    {
      "cell_type": "code",
      "execution_count": null,
      "metadata": {
        "id": "CI0P6xMCKTne"
      },
      "outputs": [],
      "source": [
        "df_market = df.copy(deep=True)"
      ]
    },
    {
      "cell_type": "markdown",
      "metadata": {
        "id": "4LuBccZ0FQZs"
      },
      "source": [
        "# Data Cleaning"
      ]
    },
    {
      "cell_type": "code",
      "execution_count": null,
      "metadata": {
        "colab": {
          "base_uri": "https://localhost:8080/"
        },
        "id": "h3GfjEpvFPdy",
        "outputId": "26d68200-ef7f-4f80-a2af-897bd52d00f4"
      },
      "outputs": [
        {
          "output_type": "stream",
          "name": "stdout",
          "text": [
            "<class 'pandas.core.frame.DataFrame'>\n",
            "RangeIndex: 588101 entries, 0 to 588100\n",
            "Data columns (total 7 columns):\n",
            " #   Column         Non-Null Count   Dtype \n",
            "---  ------         --------------   ----- \n",
            " 0   Unnamed: 0     588101 non-null  int64 \n",
            " 1   user id        588101 non-null  int64 \n",
            " 2   test group     588101 non-null  object\n",
            " 3   converted      588101 non-null  bool  \n",
            " 4   total ads      588101 non-null  int64 \n",
            " 5   most ads day   588101 non-null  object\n",
            " 6   most ads hour  588101 non-null  int64 \n",
            "dtypes: bool(1), int64(4), object(2)\n",
            "memory usage: 27.5+ MB\n"
          ]
        }
      ],
      "source": [
        "df.info()"
      ]
    },
    {
      "cell_type": "code",
      "execution_count": null,
      "metadata": {
        "colab": {
          "base_uri": "https://localhost:8080/"
        },
        "id": "faXvaXzoncxG",
        "outputId": "fb6a7aad-74ad-461b-882e-6ee5bb5fed46"
      },
      "outputs": [
        {
          "output_type": "execute_result",
          "data": {
            "text/plain": [
              "1.0"
            ]
          },
          "metadata": {},
          "execution_count": 5
        }
      ],
      "source": [
        "len(df_market.drop_duplicates())/len(df_market)"
      ]
    },
    {
      "cell_type": "code",
      "execution_count": null,
      "metadata": {
        "colab": {
          "base_uri": "https://localhost:8080/",
          "height": 304
        },
        "id": "OucvVi4ancxH",
        "outputId": "e171cdf5-6ad2-4c17-a6de-c028a063e9bc"
      },
      "outputs": [
        {
          "output_type": "execute_result",
          "data": {
            "text/plain": [
              "Unnamed: 0       0\n",
              "user id          0\n",
              "test group       0\n",
              "converted        0\n",
              "total ads        0\n",
              "most ads day     0\n",
              "most ads hour    0\n",
              "dtype: int64"
            ],
            "text/html": [
              "<div>\n",
              "<style scoped>\n",
              "    .dataframe tbody tr th:only-of-type {\n",
              "        vertical-align: middle;\n",
              "    }\n",
              "\n",
              "    .dataframe tbody tr th {\n",
              "        vertical-align: top;\n",
              "    }\n",
              "\n",
              "    .dataframe thead th {\n",
              "        text-align: right;\n",
              "    }\n",
              "</style>\n",
              "<table border=\"1\" class=\"dataframe\">\n",
              "  <thead>\n",
              "    <tr style=\"text-align: right;\">\n",
              "      <th></th>\n",
              "      <th>0</th>\n",
              "    </tr>\n",
              "  </thead>\n",
              "  <tbody>\n",
              "    <tr>\n",
              "      <th>Unnamed: 0</th>\n",
              "      <td>0</td>\n",
              "    </tr>\n",
              "    <tr>\n",
              "      <th>user id</th>\n",
              "      <td>0</td>\n",
              "    </tr>\n",
              "    <tr>\n",
              "      <th>test group</th>\n",
              "      <td>0</td>\n",
              "    </tr>\n",
              "    <tr>\n",
              "      <th>converted</th>\n",
              "      <td>0</td>\n",
              "    </tr>\n",
              "    <tr>\n",
              "      <th>total ads</th>\n",
              "      <td>0</td>\n",
              "    </tr>\n",
              "    <tr>\n",
              "      <th>most ads day</th>\n",
              "      <td>0</td>\n",
              "    </tr>\n",
              "    <tr>\n",
              "      <th>most ads hour</th>\n",
              "      <td>0</td>\n",
              "    </tr>\n",
              "  </tbody>\n",
              "</table>\n",
              "</div><br><label><b>dtype:</b> int64</label>"
            ]
          },
          "metadata": {},
          "execution_count": 6
        }
      ],
      "source": [
        "df_market.isna().sum()"
      ]
    },
    {
      "cell_type": "code",
      "execution_count": null,
      "metadata": {
        "colab": {
          "base_uri": "https://localhost:8080/",
          "height": 304
        },
        "id": "TqT708pUncxH",
        "outputId": "41d937fd-3a97-4ec6-d0e7-16454add5d28"
      },
      "outputs": [
        {
          "output_type": "execute_result",
          "data": {
            "text/plain": [
              "Unnamed: 0       0\n",
              "user id          0\n",
              "test group       0\n",
              "converted        0\n",
              "total ads        0\n",
              "most ads day     0\n",
              "most ads hour    0\n",
              "dtype: int64"
            ],
            "text/html": [
              "<div>\n",
              "<style scoped>\n",
              "    .dataframe tbody tr th:only-of-type {\n",
              "        vertical-align: middle;\n",
              "    }\n",
              "\n",
              "    .dataframe tbody tr th {\n",
              "        vertical-align: top;\n",
              "    }\n",
              "\n",
              "    .dataframe thead th {\n",
              "        text-align: right;\n",
              "    }\n",
              "</style>\n",
              "<table border=\"1\" class=\"dataframe\">\n",
              "  <thead>\n",
              "    <tr style=\"text-align: right;\">\n",
              "      <th></th>\n",
              "      <th>0</th>\n",
              "    </tr>\n",
              "  </thead>\n",
              "  <tbody>\n",
              "    <tr>\n",
              "      <th>Unnamed: 0</th>\n",
              "      <td>0</td>\n",
              "    </tr>\n",
              "    <tr>\n",
              "      <th>user id</th>\n",
              "      <td>0</td>\n",
              "    </tr>\n",
              "    <tr>\n",
              "      <th>test group</th>\n",
              "      <td>0</td>\n",
              "    </tr>\n",
              "    <tr>\n",
              "      <th>converted</th>\n",
              "      <td>0</td>\n",
              "    </tr>\n",
              "    <tr>\n",
              "      <th>total ads</th>\n",
              "      <td>0</td>\n",
              "    </tr>\n",
              "    <tr>\n",
              "      <th>most ads day</th>\n",
              "      <td>0</td>\n",
              "    </tr>\n",
              "    <tr>\n",
              "      <th>most ads hour</th>\n",
              "      <td>0</td>\n",
              "    </tr>\n",
              "  </tbody>\n",
              "</table>\n",
              "</div><br><label><b>dtype:</b> int64</label>"
            ]
          },
          "metadata": {},
          "execution_count": 7
        }
      ],
      "source": [
        "df_market.isnull().sum()"
      ]
    },
    {
      "cell_type": "code",
      "execution_count": null,
      "metadata": {
        "id": "L91IfCvPG3gd"
      },
      "outputs": [],
      "source": [
        "features = ['total ads', 'most ads hour']\n",
        "import matplotlib.pyplot as plt\n",
        "import seaborn as sns\n",
        "from scipy.stats import skew,shapiro\n",
        "\n",
        "def check_plot(df_market,features):\n",
        "\n",
        "    for i in features:\n",
        "\n",
        "    # tentukan ukuran gambar\n",
        "        plt.figure(figsize=(20, 4))\n",
        "\n",
        "        # histogram\n",
        "        plt.subplot(1, 2, 1)\n",
        "        sns.histplot(df_market[i], bins=30)\n",
        "        plt.title('Histogram')\n",
        "\n",
        "    # box plot\n",
        "        plt.subplot(1, 2, 2)\n",
        "        sns.boxplot(y=df_market[i])\n",
        "        plt.title('Boxplot')\n",
        "\n",
        "        plt.show()"
      ]
    },
    {
      "cell_type": "code",
      "execution_count": null,
      "metadata": {
        "colab": {
          "base_uri": "https://localhost:8080/",
          "height": 730
        },
        "id": "dPzihvpJHKjp",
        "outputId": "d0f77cd2-fedd-4ab4-ceef-985de745b1f5"
      },
      "outputs": [
        {
          "output_type": "display_data",
          "data": {
            "text/plain": [
              "<Figure size 2000x400 with 2 Axes>"
            ],
            "image/png": "[encoded data removed]"
          },
          "metadata": {}
        },
        {
          "output_type": "display_data",
          "data": {
            "text/plain": [
              "<Figure size 2000x400 with 2 Axes>"
            ],
            "image/png": "[encoded data removed]"
          },
          "metadata": {}
        }
      ],
      "source": [
        "check_plot(df_market,features)"
      ]
    },
    {
      "cell_type": "code",
      "execution_count": null,
      "metadata": {
        "colab": {
          "base_uri": "https://localhost:8080/",
          "height": 300
        },
        "id": "Phi8h0bLHVIX",
        "outputId": "fdb154d7-7099-40a7-dbfe-fa908f5e7f80"
      },
      "outputs": [
        {
          "output_type": "execute_result",
          "data": {
            "text/plain": [
              "       Unnamed: 0    user id  total ads  most ads hour\n",
              "count   588101.00  588101.00  588101.00      588101.00\n",
              "mean    294050.00 1310692.22      24.82          14.47\n",
              "std     169770.28  202225.98      43.72           4.83\n",
              "min          0.00  900000.00       1.00           0.00\n",
              "25%     147025.00 1143190.00       4.00          11.00\n",
              "50%     294050.00 1313725.00      13.00          14.00\n",
              "75%     441075.00 1484088.00      27.00          18.00\n",
              "max     588100.00 1654483.00    2065.00          23.00"
            ],
            "text/html": [
              "\n",
              "  <div id=\"df-faaef9be-f09c-4784-8a07-1c3ad8a4f0e4\" class=\"colab-df-container\">\n",
              "    <div>\n",
              "<style scoped>\n",
              "    .dataframe tbody tr th:only-of-type {\n",
              "        vertical-align: middle;\n",
              "    }\n",
              "\n",
              "    .dataframe tbody tr th {\n",
              "        vertical-align: top;\n",
              "    }\n",
              "\n",
              "    .dataframe thead th {\n",
              "        text-align: right;\n",
              "    }\n",
              "</style>\n",
              "<table border=\"1\" class=\"dataframe\">\n",
              "  <thead>\n",
              "    <tr style=\"text-align: right;\">\n",
              "      <th></th>\n",
              "      <th>Unnamed: 0</th>\n",
              "      <th>user id</th>\n",
              "      <th>total ads</th>\n",
              "      <th>most ads hour</th>\n",
              "    </tr>\n",
              "  </thead>\n",
              "  <tbody>\n",
              "    <tr>\n",
              "      <th>count</th>\n",
              "      <td>588101.00</td>\n",
              "      <td>588101.00</td>\n",
              "      <td>588101.00</td>\n",
              "      <td>588101.00</td>\n",
              "    </tr>\n",
              "    <tr>\n",
              "      <th>mean</th>\n",
              "      <td>294050.00</td>\n",
              "      <td>1310692.22</td>\n",
              "      <td>24.82</td>\n",
              "      <td>14.47</td>\n",
              "    </tr>\n",
              "    <tr>\n",
              "      <th>std</th>\n",
              "      <td>169770.28</td>\n",
              "      <td>202225.98</td>\n",
              "      <td>43.72</td>\n",
              "      <td>4.83</td>\n",
              "    </tr>\n",
              "    <tr>\n",
              "      <th>min</th>\n",
              "      <td>0.00</td>\n",
              "      <td>900000.00</td>\n",
              "      <td>1.00</td>\n",
              "      <td>0.00</td>\n",
              "    </tr>\n",
              "    <tr>\n",
              "      <th>25%</th>\n",
              "      <td>147025.00</td>\n",
              "      <td>1143190.00</td>\n",
              "      <td>4.00</td>\n",
              "      <td>11.00</td>\n",
              "    </tr>\n",
              "    <tr>\n",
              "      <th>50%</th>\n",
              "      <td>294050.00</td>\n",
              "      <td>1313725.00</td>\n",
              "      <td>13.00</td>\n",
              "      <td>14.00</td>\n",
              "    </tr>\n",
              "    <tr>\n",
              "      <th>75%</th>\n",
              "      <td>441075.00</td>\n",
              "      <td>1484088.00</td>\n",
              "      <td>27.00</td>\n",
              "      <td>18.00</td>\n",
              "    </tr>\n",
              "    <tr>\n",
              "      <th>max</th>\n",
              "      <td>588100.00</td>\n",
              "      <td>1654483.00</td>\n",
              "      <td>2065.00</td>\n",
              "      <td>23.00</td>\n",
              "    </tr>\n",
              "  </tbody>\n",
              "</table>\n",
              "</div>\n",
              "    <div class=\"colab-df-buttons\">\n",
              "\n",
              "  <div class=\"colab-df-container\">\n",
              "    <button class=\"colab-df-convert\" onclick=\"convertToInteractive('df-faaef9be-f09c-4784-8a07-1c3ad8a4f0e4')\"\n",
              "            title=\"Convert this dataframe to an interactive table.\"\n",
              "            style=\"display:none;\">\n",
              "\n",
              "  <svg xmlns=\"http://www.w3.org/2000/svg\" height=\"24px\" viewBox=\"0 -960 960 960\">\n",
              "    <path d=\"M120-120v-720h720v720H120Zm60-500h600v-160H180v160Zm220 220h160v-160H400v160Zm0 220h160v-160H400v160ZM180-400h160v-160H180v160Zm440 0h160v-160H620v160ZM180-180h160v-160H180v160Zm440 0h160v-160H620v160Z\"/>\n",
              "  </svg>\n",
              "    </button>\n",
              "\n",
              "  <style>\n",
              "    .colab-df-container {\n",
              "      display:flex;\n",
              "      gap: 12px;\n",
              "    }\n",
              "\n",
              "    .colab-df-convert {\n",
              "      background-color: #E8F0FE;\n",
              "      border: none;\n",
              "      border-radius: 50%;\n",
              "      cursor: pointer;\n",
              "      display: none;\n",
              "      fill: #1967D2;\n",
              "      height: 32px;\n",
              "      padding: 0 0 0 0;\n",
              "      width: 32px;\n",
              "    }\n",
              "\n",
              "    .colab-df-convert:hover {\n",
              "      background-color: #E2EBFA;\n",
              "      box-shadow: 0px 1px 2px rgba(60, 64, 67, 0.3), 0px 1px 3px 1px rgba(60, 64, 67, 0.15);\n",
              "      fill: #174EA6;\n",
              "    }\n",
              "\n",
              "    .colab-df-buttons div {\n",
              "      margin-bottom: 4px;\n",
              "    }\n",
              "\n",
              "    [theme=dark] .colab-df-convert {\n",
              "      background-color: #3B4455;\n",
              "      fill: #D2E3FC;\n",
              "    }\n",
              "\n",
              "    [theme=dark] .colab-df-convert:hover {\n",
              "      background-color: #434B5C;\n",
              "      box-shadow: 0px 1px 3px 1px rgba(0, 0, 0, 0.15);\n",
              "      filter: drop-shadow(0px 1px 2px rgba(0, 0, 0, 0.3));\n",
              "      fill: #FFFFFF;\n",
              "    }\n",
              "  </style>\n",
              "\n",
              "    <script>\n",
              "      const buttonEl =\n",
              "        document.querySelector('#df-faaef9be-f09c-4784-8a07-1c3ad8a4f0e4 button.colab-df-convert');\n",
              "      buttonEl.style.display =\n",
              "        google.colab.kernel.accessAllowed ? 'block' : 'none';\n",
              "\n",
              "      async function convertToInteractive(key) {\n",
              "        const element = document.querySelector('#df-faaef9be-f09c-4784-8a07-1c3ad8a4f0e4');\n",
              "        const dataTable =\n",
              "          await google.colab.kernel.invokeFunction('convertToInteractive',\n",
              "                                                    [key], {});\n",
              "        if (!dataTable) return;\n",
              "\n",
              "        const docLinkHtml = 'Like what you see? Visit the ' +\n",
              "          '<a target=\"_blank\" href=https://colab.research.google.com/notebooks/data_table.ipynb>data table notebook</a>'\n",
              "          + ' to learn more about interactive tables.';\n",
              "        element.innerHTML = '';\n",
              "        dataTable['output_type'] = 'display_data';\n",
              "        await google.colab.output.renderOutput(dataTable, element);\n",
              "        const docLink = document.createElement('div');\n",
              "        docLink.innerHTML = docLinkHtml;\n",
              "        element.appendChild(docLink);\n",
              "      }\n",
              "    </script>\n",
              "  </div>\n",
              "\n",
              "\n",
              "    <div id=\"df-b42a6e9f-3d3d-4417-b88b-b13619865ab6\">\n",
              "      <button class=\"colab-df-quickchart\" onclick=\"quickchart('df-b42a6e9f-3d3d-4417-b88b-b13619865ab6')\"\n",
              "                title=\"Suggest charts\"\n",
              "                style=\"display:none;\">\n",
              "\n",
              "<svg xmlns=\"http://www.w3.org/2000/svg\" height=\"24px\"viewBox=\"0 0 24 24\"\n",
              "     width=\"24px\">\n",
              "    <g>\n",
              "        <path d=\"M19 3H5c-1.1 0-2 .9-2 2v14c0 1.1.9 2 2 2h14c1.1 0 2-.9 2-2V5c0-1.1-.9-2-2-2zM9 17H7v-7h2v7zm4 0h-2V7h2v10zm4 0h-2v-4h2v4z\"/>\n",
              "    </g>\n",
              "</svg>\n",
              "      </button>\n",
              "\n",
              "<style>\n",
              "  .colab-df-quickchart {\n",
              "      --bg-color: #E8F0FE;\n",
              "      --fill-color: #1967D2;\n",
              "      --hover-bg-color: #E2EBFA;\n",
              "      --hover-fill-color: #174EA6;\n",
              "      --disabled-fill-color: #AAA;\n",
              "      --disabled-bg-color: #DDD;\n",
              "  }\n",
              "\n",
              "  [theme=dark] .colab-df-quickchart {\n",
              "      --bg-color: #3B4455;\n",
              "      --fill-color: #D2E3FC;\n",
              "      --hover-bg-color: #434B5C;\n",
              "      --hover-fill-color: #FFFFFF;\n",
              "      --disabled-bg-color: #3B4455;\n",
              "      --disabled-fill-color: #666;\n",
              "  }\n",
              "\n",
              "  .colab-df-quickchart {\n",
              "    background-color: var(--bg-color);\n",
              "    border: none;\n",
              "    border-radius: 50%;\n",
              "    cursor: pointer;\n",
              "    display: none;\n",
              "    fill: var(--fill-color);\n",
              "    height: 32px;\n",
              "    padding: 0;\n",
              "    width: 32px;\n",
              "  }\n",
              "\n",
              "  .colab-df-quickchart:hover {\n",
              "    background-color: var(--hover-bg-color);\n",
              "    box-shadow: 0 1px 2px rgba(60, 64, 67, 0.3), 0 1px 3px 1px rgba(60, 64, 67, 0.15);\n",
              "    fill: var(--button-hover-fill-color);\n",
              "  }\n",
              "\n",
              "  .colab-df-quickchart-complete:disabled,\n",
              "  .colab-df-quickchart-complete:disabled:hover {\n",
              "    background-color: var(--disabled-bg-color);\n",
              "    fill: var(--disabled-fill-color);\n",
              "    box-shadow: none;\n",
              "  }\n",
              "\n",
              "  .colab-df-spinner {\n",
              "    border: 2px solid var(--fill-color);\n",
              "    border-color: transparent;\n",
              "    border-bottom-color: var(--fill-color);\n",
              "    animation:\n",
              "      spin 1s steps(1) infinite;\n",
              "  }\n",
              "\n",
              "  @keyframes spin {\n",
              "    0% {\n",
              "      border-color: transparent;\n",
              "      border-bottom-color: var(--fill-color);\n",
              "      border-left-color: var(--fill-color);\n",
              "    }\n",
              "    20% {\n",
              "      border-color: transparent;\n",
              "      border-left-color: var(--fill-color);\n",
              "      border-top-color: var(--fill-color);\n",
              "    }\n",
              "    30% {\n",
              "      border-color: transparent;\n",
              "      border-left-color: var(--fill-color);\n",
              "      border-top-color: var(--fill-color);\n",
              "      border-right-color: var(--fill-color);\n",
              "    }\n",
              "    40% {\n",
              "      border-color: transparent;\n",
              "      border-right-color: var(--fill-color);\n",
              "      border-top-color: var(--fill-color);\n",
              "    }\n",
              "    60% {\n",
              "      border-color: transparent;\n",
              "      border-right-color: var(--fill-color);\n",
              "    }\n",
              "    80% {\n",
              "      border-color: transparent;\n",
              "      border-right-color: var(--fill-color);\n",
              "      border-bottom-color: var(--fill-color);\n",
              "    }\n",
              "    90% {\n",
              "      border-color: transparent;\n",
              "      border-bottom-color: var(--fill-color);\n",
              "    }\n",
              "  }\n",
              "</style>\n",
              "\n",
              "      <script>\n",
              "        async function quickchart(key) {\n",
              "          const quickchartButtonEl =\n",
              "            document.querySelector('#' + key + ' button');\n",
              "          quickchartButtonEl.disabled = true;  // To prevent multiple clicks.\n",
              "          quickchartButtonEl.classList.add('colab-df-spinner');\n",
              "          try {\n",
              "            const charts = await google.colab.kernel.invokeFunction(\n",
              "                'suggestCharts', [key], {});\n",
              "          } catch (error) {\n",
              "            console.error('Error during call to suggestCharts:', error);\n",
              "          }\n",
              "          quickchartButtonEl.classList.remove('colab-df-spinner');\n",
              "          quickchartButtonEl.classList.add('colab-df-quickchart-complete');\n",
              "        }\n",
              "        (() => {\n",
              "          let quickchartButtonEl =\n",
              "            document.querySelector('#df-b42a6e9f-3d3d-4417-b88b-b13619865ab6 button');\n",
              "          quickchartButtonEl.style.display =\n",
              "            google.colab.kernel.accessAllowed ? 'block' : 'none';\n",
              "        })();\n",
              "      </script>\n",
              "    </div>\n",
              "\n",
              "    </div>\n",
              "  </div>\n"
            ],
            "application/vnd.google.colaboratory.intrinsic+json": {
              "type": "dataframe",
              "summary": "{\n  \"name\": \"df_market\",\n  \"rows\": 8,\n  \"fields\": [\n    {\n      \"column\": \"Unnamed: 0\",\n      \"properties\": {\n        \"dtype\": \"number\",\n        \"std\": 211954.22680109803,\n        \"min\": 0.0,\n        \"max\": 588101.0,\n        \"num_unique_values\": 7,\n        \"samples\": [\n          588101.0,\n          294050.0,\n          441075.0\n        ],\n        \"semantic_type\": \"\",\n        \"description\": \"\"\n      }\n    },\n    {\n      \"column\": \"user id\",\n      \"properties\": {\n        \"dtype\": \"number\",\n        \"std\": 485470.67814461567,\n        \"min\": 202225.98312774944,\n        \"max\": 1654483.0,\n        \"num_unique_values\": 8,\n        \"samples\": [\n          1310692.2157928655,\n          1313725.0,\n          588101.0\n        ],\n        \"semantic_type\": \"\",\n        \"description\": \"\"\n      }\n    },\n    {\n      \"column\": \"total ads\",\n      \"properties\": {\n        \"dtype\": \"number\",\n        \"std\": 207816.30368195256,\n        \"min\": 1.0,\n        \"max\": 588101.0,\n        \"num_unique_values\": 8,\n        \"samples\": [\n          24.82087600599217,\n          13.0,\n          588101.0\n        ],\n        \"semantic_type\": \"\",\n        \"description\": \"\"\n      }\n    },\n    {\n      \"column\": \"most ads hour\",\n      \"properties\": {\n        \"dtype\": \"number\",\n        \"std\": 207920.79419886248,\n        \"min\": 0.0,\n        \"max\": 588101.0,\n        \"num_unique_values\": 8,\n        \"samples\": [\n          14.469060586531905,\n          14.0,\n          588101.0\n        ],\n        \"semantic_type\": \"\",\n        \"description\": \"\"\n      }\n    }\n  ]\n}"
            }
          },
          "metadata": {},
          "execution_count": 10
        }
      ],
      "source": [
        "df_market.describe()"
      ]
    },
    {
      "cell_type": "code",
      "execution_count": null,
      "metadata": {
        "colab": {
          "base_uri": "https://localhost:8080/"
        },
        "id": "n1vZI5EEncxJ",
        "outputId": "d5437b4e-9e58-48d1-88fb-c5f376560ff3"
      },
      "outputs": [
        {
          "output_type": "execute_result",
          "data": {
            "text/plain": [
              "36"
            ]
          },
          "metadata": {},
          "execution_count": 11
        }
      ],
      "source": [
        "outlier_count = df_market[df_market['total ads'] > 1000].shape[0]\n",
        "outlier_count"
      ]
    },
    {
      "cell_type": "code",
      "execution_count": null,
      "metadata": {
        "colab": {
          "base_uri": "https://localhost:8080/"
        },
        "id": "MPfXKwl7ncxK",
        "outputId": "0836cada-b0c3-490a-bb5f-98931547010a"
      },
      "outputs": [
        {
          "output_type": "execute_result",
          "data": {
            "text/plain": [
              "588101"
            ]
          },
          "metadata": {},
          "execution_count": 12
        }
      ],
      "source": [
        "total_users = df_market.shape[0]\n",
        "total_users"
      ]
    },
    {
      "cell_type": "code",
      "execution_count": null,
      "metadata": {
        "colab": {
          "base_uri": "https://localhost:8080/"
        },
        "id": "RA2MfjhencxL",
        "outputId": "342c0c03-d09c-418d-a8cb-d53632c44a8d"
      },
      "outputs": [
        {
          "output_type": "execute_result",
          "data": {
            "text/plain": [
              "0.006121397515052687"
            ]
          },
          "metadata": {},
          "execution_count": 13
        }
      ],
      "source": [
        "outlier_percentage = (outlier_count / total_users) * 100\n",
        "outlier_percentage"
      ]
    },
    {
      "cell_type": "markdown",
      "metadata": {
        "id": "Bp8btVCAncxL"
      },
      "source": [
        "Insight : Dilakukan handling outlier karena nilai maksimum sangat jauh dari median dan mean. Hasil analisis menunjukkan bahwa :\n",
        "1. nilai maksimum mencapai 2065, sementara median hanya 13 dan mean hanya 24.82\n",
        "2. dlakukan check persentasi outlier jika total ads > 1000 dan didapat sebanyak 36 user dari 588.101 pengguna.\n",
        "3. Hal ini mengindikasikan adanya anomali yang ada dalam data total ads\n",
        "4. oleh karena itu dilakukan handling outlier untuk menjaga kualitas data."
      ]
    },
    {
      "cell_type": "code",
      "execution_count": null,
      "metadata": {
        "id": "ET6tY6odJqNW"
      },
      "outputs": [],
      "source": [
        "def find_outlier_boundary(df_market,features):\n",
        "\n",
        "    IQR = df_market[features].quantile(0.75) - df_market[features].quantile(0.25)\n",
        "\n",
        "    lower_boundary = df_market[features].quantile(0.25) - (IQR * 1.5)\n",
        "    upper_boundary = df_market[features].quantile(0.75) + (IQR * 1.5)\n",
        "\n",
        "    return upper_boundary, lower_boundary"
      ]
    },
    {
      "cell_type": "code",
      "execution_count": null,
      "metadata": {
        "colab": {
          "base_uri": "https://localhost:8080/"
        },
        "id": "stz0s9GwKEdr",
        "outputId": "7f29b288-1a08-4b49-ffa5-7a464b603b87"
      },
      "outputs": [
        {
          "output_type": "stream",
          "name": "stdout",
          "text": [
            "upper limit : \n",
            "total ads       61.50\n",
            "most ads hour   28.50\n",
            "dtype: float64\n",
            "lower limit : \n",
            "total ads       -30.50\n",
            "most ads hour     0.50\n",
            "dtype: float64\n"
          ]
        }
      ],
      "source": [
        "full_occup_upper_limit, full_occup_lower_limit = find_outlier_boundary(df_market, features)\n",
        "print(f\"upper limit : \\n{full_occup_upper_limit}\")\n",
        "print(f\"lower limit : \\n{full_occup_lower_limit}\")"
      ]
    },
    {
      "cell_type": "code",
      "execution_count": null,
      "metadata": {
        "id": "0sQ_dr_7NyBb"
      },
      "outputs": [],
      "source": [
        "df_market = df_market[\n",
        "        (df_market[features[0]] >= full_occup_lower_limit.iloc[0]) & (df_market[features[0]] <= full_occup_upper_limit.iloc[0])\n",
        "    ]"
      ]
    },
    {
      "cell_type": "code",
      "execution_count": null,
      "metadata": {
        "colab": {
          "base_uri": "https://localhost:8080/",
          "height": 730
        },
        "id": "RRQqVCckOPCF",
        "outputId": "03a25b15-cede-4fba-9a4b-366bbe7a3c17"
      },
      "outputs": [
        {
          "output_type": "display_data",
          "data": {
            "text/plain": [
              "<Figure size 2000x400 with 2 Axes>"
            ],
            "image/png": "[encoded data removed]"
          },
          "metadata": {}
        },
        {
          "output_type": "display_data",
          "data": {
            "text/plain": [
              "<Figure size 2000x400 with 2 Axes>"
            ],
            "image/png": "[encoded data removed]"
          },
          "metadata": {}
        }
      ],
      "source": [
        "check_plot(df_market,features)"
      ]
    },
    {
      "cell_type": "code",
      "execution_count": null,
      "metadata": {
        "colab": {
          "base_uri": "https://localhost:8080/"
        },
        "id": "_zMqBDKAncxN",
        "outputId": "ae060a8a-495e-47b5-e1b4-db31c957cc10"
      },
      "outputs": [
        {
          "output_type": "execute_result",
          "data": {
            "text/plain": [
              "(536044, 7)"
            ]
          },
          "metadata": {},
          "execution_count": 18
        }
      ],
      "source": [
        "df_market.shape"
      ]
    },
    {
      "cell_type": "code",
      "execution_count": null,
      "metadata": {
        "id": "7I-_QIvZncxN"
      },
      "outputs": [],
      "source": [
        "from sklearn.preprocessing import LabelEncoder\n",
        "# Kolom-kolom yang ingin di-label encode -> 0 = false, 1 = True\n",
        "columns_to_encode = ['converted']\n",
        "\n",
        "# Inisialisasi LabelEncoder\n",
        "label_encoder = LabelEncoder()"
      ]
    },
    {
      "cell_type": "code",
      "execution_count": null,
      "metadata": {
        "id": "i3-vweR_ncxO"
      },
      "outputs": [],
      "source": [
        "df_market['converted'] = label_encoder.fit_transform(df_market['converted'])"
      ]
    },
    {
      "cell_type": "markdown",
      "metadata": {
        "id": "R9b9IZgMncxO"
      },
      "source": [
        "**Objective Analysis** :\n",
        "\n",
        "Menganalisis efektivitas penayangan iklan digital terhadap perilaku pengguna dalam melakukan aksi pembelian, serta memastikan tidak ada efek samping yang merugikan dari sisi paparan iklan dan waktu tayang."
      ]
    },
    {
      "cell_type": "markdown",
      "metadata": {
        "id": "crtTuVD7ncxO"
      },
      "source": [
        "## Success Metrics\n",
        "\n",
        "**Conversion Rate**\n",
        "\n",
        "Hipotesis :\n",
        "Jika pengguna diberikan iklan digital (ad), maka mereka lebih aktif dalam membeli produk dibandingkan jika hanya diberikan iklan layanan masyarakat (PSA)."
      ]
    },
    {
      "cell_type": "code",
      "execution_count": null,
      "metadata": {
        "colab": {
          "base_uri": "https://localhost:8080/"
        },
        "id": "1jmzBd8aj84S",
        "outputId": "af487326-c014-487b-e89e-4416a037a45f"
      },
      "outputs": [
        {
          "output_type": "stream",
          "name": "stdout",
          "text": [
            "Conversion rate keseluruhan: 1.33%\n"
          ]
        }
      ],
      "source": [
        "# Hitung conversion rate secara umum\n",
        "conversion_rate2= df_market['converted'].mean() * 100\n",
        "print(f\"Conversion rate keseluruhan: {conversion_rate2:.2f}%\")"
      ]
    },
    {
      "cell_type": "code",
      "execution_count": null,
      "metadata": {
        "colab": {
          "base_uri": "https://localhost:8080/",
          "height": 178
        },
        "id": "NgeNC8IMkFmr",
        "outputId": "c0cf9d1e-34c8-471c-e375-6e07091a730f"
      },
      "outputs": [
        {
          "output_type": "execute_result",
          "data": {
            "text/plain": [
              "test group\n",
              "ad    1.34\n",
              "psa   1.06\n",
              "Name: converted, dtype: float64"
            ],
            "text/html": [
              "<div>\n",
              "<style scoped>\n",
              "    .dataframe tbody tr th:only-of-type {\n",
              "        vertical-align: middle;\n",
              "    }\n",
              "\n",
              "    .dataframe tbody tr th {\n",
              "        vertical-align: top;\n",
              "    }\n",
              "\n",
              "    .dataframe thead th {\n",
              "        text-align: right;\n",
              "    }\n",
              "</style>\n",
              "<table border=\"1\" class=\"dataframe\">\n",
              "  <thead>\n",
              "    <tr style=\"text-align: right;\">\n",
              "      <th></th>\n",
              "      <th>converted</th>\n",
              "    </tr>\n",
              "    <tr>\n",
              "      <th>test group</th>\n",
              "      <th></th>\n",
              "    </tr>\n",
              "  </thead>\n",
              "  <tbody>\n",
              "    <tr>\n",
              "      <th>ad</th>\n",
              "      <td>1.34</td>\n",
              "    </tr>\n",
              "    <tr>\n",
              "      <th>psa</th>\n",
              "      <td>1.06</td>\n",
              "    </tr>\n",
              "  </tbody>\n",
              "</table>\n",
              "</div><br><label><b>dtype:</b> float64</label>"
            ]
          },
          "metadata": {},
          "execution_count": 22
        }
      ],
      "source": [
        "# Hitung conversion rate per test group\n",
        "conversion_rate_per_group2 = df_market.groupby('test group')['converted'].mean() * 100\n",
        "conversion_rate_per_group2"
      ]
    },
    {
      "cell_type": "code",
      "execution_count": null,
      "metadata": {
        "id": "W139hV2FHK2J"
      },
      "outputs": [],
      "source": [
        "from statsmodels.stats.proportion import proportions_ztest\n",
        "\n",
        "# Pisahkan grup kontrol dan grup iklan (test)\n",
        "group_control2 = df_market[df_market['test group'] == 'psa']\n",
        "group_ad2 = df_market[df_market['test group'] == 'ad']\n",
        "\n",
        "# Hitung jumlah pengguna yang converted di tiap grup\n",
        "conversion2 = [\n",
        "    group_ad2['converted'].sum(),\n",
        "    group_control2['converted'].sum()\n",
        "]\n",
        "\n",
        "# Hitung total pengguna di tiap grup\n",
        "sample2 = [\n",
        "    group_ad2['converted'].shape[0],\n",
        "    group_control2['converted'].shape[0]\n",
        "]"
      ]
    },
    {
      "cell_type": "code",
      "execution_count": null,
      "metadata": {
        "id": "aGceNBPBHi2l"
      },
      "outputs": [],
      "source": [
        "# Uji proporsi: apakah conversion rate grup iklan lebih besar dari kontrol?\n",
        "z_stat, p_value = proportions_ztest(conversion2, sample2, alternative='larger')"
      ]
    },
    {
      "cell_type": "code",
      "execution_count": null,
      "metadata": {
        "colab": {
          "base_uri": "https://localhost:8080/"
        },
        "id": "IqlYAHU1HmWy",
        "outputId": "fcd40f84-118e-4b0a-8147-49bd9f67169b"
      },
      "outputs": [
        {
          "output_type": "stream",
          "name": "stdout",
          "text": [
            "P-value: 0.0002\n",
            "CVR control: 1.06%\n",
            "CVR ad: 1.34%\n",
            "Reject null hypothesis\n"
          ]
        }
      ],
      "source": [
        "# Tampilkan hasil\n",
        "print(f\"P-value: {p_value:.4f}\")\n",
        "print(f\"CVR control: {(group_control2['converted'].mean() * 100):.2f}%\")\n",
        "print(f\"CVR ad: {(group_ad2['converted'].mean() * 100):.2f}%\")\n",
        "\n",
        "if p_value < 0.05:\n",
        "  print(\"Reject null hypothesis\")\n",
        "else:\n",
        "  print(\"Fail to reject null hypothesis\")"
      ]
    },
    {
      "cell_type": "markdown",
      "metadata": {
        "id": "9K8GQ25TncxQ"
      },
      "source": [
        "**Insight**\n",
        "\n",
        "Hasil pengujian menunjukkan bahwa pengguna yang melihat iklan digital (ad group) memiliki conversion rate (CVR) sebesar 1.34%, lebih tinggi dibandingkan dengan pengguna yang hanya melihat iklan layanan masyarakat atau psa (control group) sebesar 1.06%. Uji statistik menghasilkan nilai p-value = 0.0002, yang jauh lebih kecil dari ambang signifikansi 0.05. Artinya, perbedaan tersebut signifikan secara statistik.\n",
        "Dengan demikian, penayangan iklan digital terbukti secara signifikan meningkatkan aksi pembelian pengguna dibandingkan iklan layanan masyarakat. Oleh karena itu, strategi kampanye berbasis iklan layak diteruskan."
      ]
    },
    {
      "cell_type": "markdown",
      "metadata": {
        "id": "XQ48Q2cWncxR"
      },
      "source": [
        "## Guardrail Metrics"
      ]
    },
    {
      "cell_type": "markdown",
      "metadata": {
        "id": "3SWFPN4kncxR"
      },
      "source": [
        "### Users ads\n",
        "\n",
        "Hipotesis :\n",
        "\n",
        "Apakah ada perbedaan signifikan rata-rata jumlah iklan yang dilihat user pada grup ad vs psa?"
      ]
    },
    {
      "cell_type": "code",
      "execution_count": null,
      "metadata": {
        "id": "a-ekJLYxncxS"
      },
      "outputs": [],
      "source": [
        "# Pisahkan grup kontrol dan grup iklan (test)\n",
        "group_control2 = df[df['test group'] == 'psa']\n",
        "group_ad2 = df[df['test group'] == 'ad']\n",
        "\n",
        "# Hitung jumlah pengguna\n",
        "total_ads_sum2 = [\n",
        "    group_ad2['total ads'].sum(),\n",
        "    group_control2['total ads'].sum()\n",
        "]\n",
        "\n",
        "# Hitung jumlah pengguna per grup\n",
        "user_counts2 = [\n",
        "    group_ad2.shape[0],\n",
        "    group_control2.shape[0]\n",
        "]"
      ]
    },
    {
      "cell_type": "code",
      "execution_count": null,
      "metadata": {
        "id": "bsVbfQa4E6uJ",
        "colab": {
          "base_uri": "https://localhost:8080/"
        },
        "outputId": "52492927-2d91-43d5-de2b-0b55ec93c704"
      },
      "outputs": [
        {
          "output_type": "stream",
          "name": "stdout",
          "text": [
            "Rata-rata total ads per user (ad): 24.82\n",
            "Rata-rata total ads per user (control): 24.76\n"
          ]
        }
      ],
      "source": [
        "# Hitung rata-rata total ads per user per grup\n",
        "avg_ads_ad2 = total_ads_sum2[0] / user_counts2[0]\n",
        "avg_ads_control2 = total_ads_sum2[1] / user_counts2[1]\n",
        "\n",
        "print(f\"Rata-rata total ads per user (ad): {avg_ads_ad2:.2f}\")\n",
        "print(f\"Rata-rata total ads per user (control): {avg_ads_control2:.2f}\")"
      ]
    },
    {
      "cell_type": "code",
      "execution_count": null,
      "metadata": {
        "colab": {
          "base_uri": "https://localhost:8080/"
        },
        "id": "gDsF8ZTFncxT",
        "outputId": "eff10e34-b341-4a51-9af9-de2ccbf99f57"
      },
      "outputs": [
        {
          "output_type": "stream",
          "name": "stdout",
          "text": [
            "P-value: 0.0000\n",
            "Mean total ads per user (ad group): 24.82%\n",
            "Mean total ads per user (control group): 24.76%\n"
          ]
        }
      ],
      "source": [
        "from scipy.stats import mannwhitneyu\n",
        "\n",
        "stat, p = mannwhitneyu(group_ad2['total ads'], group_control2['total ads'], alternative='two-sided')\n",
        "print(f\"P-value: {p:.4f}\")\n",
        "print(f\"Mean total ads per user (ad group): {group_ad2['total ads'].mean():.2f}%\")\n",
        "print(f\"Mean total ads per user (control group): {group_control2['total ads'].mean():.2f}%\")"
      ]
    },
    {
      "cell_type": "markdown",
      "metadata": {
        "id": "BWX5Hxj6ncxT"
      },
      "source": [
        "**Insight**\n",
        "\n",
        "Hasil pengujian menunjukkan bahwa rata-rata jumlah iklan yang dilihat oleh user group ads lebih tinggi yaitu 24.82% dibandingkan user group psa (user group control) yaitu 24.76. Meskipun selisihnya tidak jauh beda. Namun uji statistik menghasilkan nilai p-value = 0.0000, yang sangat jauh dari ambang signifikansi 0.05. Ini berarti perbedaan tersebut signifikan secara statistik.Hal ini menunjukkan bahwa sistem penayangan iklan bekerja secara berbeda antar grup, namun tidak menyebabkan lonjakan paparan yang ekstrem pada grup eksperimen, sehingga masih aman dari risiko overexposure."
      ]
    },
    {
      "cell_type": "markdown",
      "metadata": {
        "id": "wKG_ggQrncxT"
      },
      "source": [
        "### Most ads day\n",
        "\n",
        "Hipotesis :\n",
        "\n",
        "Apakah distribusi jumlah iklan per hari berbeda signifikan antara grup ad dan psa?"
      ]
    },
    {
      "cell_type": "code",
      "execution_count": null,
      "metadata": {
        "id": "JgE-S_L_ncxT"
      },
      "outputs": [],
      "source": [
        "group_ad2 = df[df['test group'] == 'ad']\n",
        "group_control2 = df[df['test group'] == 'psa']"
      ]
    },
    {
      "cell_type": "code",
      "execution_count": null,
      "metadata": {
        "colab": {
          "base_uri": "https://localhost:8080/",
          "height": 524
        },
        "id": "_JMQbl1Vncxd",
        "outputId": "7a2957f4-746e-4fd4-e4ff-89c9fd4406f2"
      },
      "outputs": [
        {
          "output_type": "display_data",
          "data": {
            "text/plain": [
              "<Figure size 1200x500 with 0 Axes>"
            ]
          },
          "metadata": {}
        },
        {
          "output_type": "display_data",
          "data": {
            "text/plain": [
              "<Figure size 1200x500 with 2 Axes>"
            ],
            "image/png": "[encoded data removed]"
          },
          "metadata": {}
        }
      ],
      "source": [
        "import matplotlib.pyplot as plt\n",
        "\n",
        "plt.figure(figsize=(12, 5))\n",
        "\n",
        "# Hitung frekuensi most_ads_day untuk masing-masing grup\n",
        "dist_ad = group_ad2['most ads day'].value_counts().sort_index(ascending=False)\n",
        "dist_psa = group_control2['most ads day'].value_counts().sort_index(ascending=False)\n",
        "\n",
        "# Plot sebagai bar chart\n",
        "plt.figure(figsize=(12, 5))\n",
        "\n",
        "plt.subplot(1, 2, 1)\n",
        "dist_ad.plot(kind='bar', color='blue', edgecolor='black')\n",
        "plt.title('Jumlah Iklan per Hari - Grup ad')\n",
        "plt.ylabel('Jumlah Pengguna')\n",
        "\n",
        "plt.subplot(1, 2, 2)\n",
        "dist_psa.plot(kind='bar', color='green', edgecolor='black')\n",
        "plt.title('Jumlah Iklan per Hari - Grup psa')\n",
        "plt.ylabel('Jumlah Pengguna')\n",
        "\n",
        "plt.tight_layout()\n",
        "plt.show()"
      ]
    },
    {
      "cell_type": "code",
      "execution_count": null,
      "metadata": {
        "id": "Fjj_K-vUncxe"
      },
      "outputs": [],
      "source": [
        "from scipy.stats import chi2_contingency\n",
        "\n",
        "data = pd.crosstab(df_market['most ads day'], df_market['test group'])\n",
        "\n",
        "stat, p, dof, expected = chi2_contingency(data)"
      ]
    },
    {
      "cell_type": "code",
      "execution_count": null,
      "metadata": {
        "colab": {
          "base_uri": "https://localhost:8080/"
        },
        "id": "gEPdg7v8ncxe",
        "outputId": "62769402-7cc7-4487-f3c6-7b7d870aa91e"
      },
      "outputs": [
        {
          "output_type": "stream",
          "name": "stdout",
          "text": [
            "P-value: 0.0000\n",
            "Reject null hypothesis\n"
          ]
        }
      ],
      "source": [
        "print(f\"P-value: {p:.4f}\")\n",
        "if p <= 0.05:\n",
        "  print(\"Reject null hypothesis\")\n",
        "else:\n",
        "  print(\"Fail to reject null hypothesis\")"
      ]
    },
    {
      "cell_type": "markdown",
      "metadata": {
        "id": "_tgEeUa8ncxf"
      },
      "source": [
        "**insight**\n",
        "\n",
        "hasil uji statistik menunjukkan p-value = 0.0000 artinya bahwa ada perbedaan secara signifikan pada distribusi ini. Pola penyebaran iklan antara kedua grup berbeda secara nyata. Grup ad menunjukkan distribusi yang lebih seimbang, sedangkan grup psa (group control) cenderung tidak merata. Hal ini bisa berdampak pada efektivitas penayangan dan persepsi pengguna terhadap iklan di hari-hari tertentu."
      ]
    },
    {
      "cell_type": "markdown",
      "metadata": {
        "id": "IGR8Gr3encxf"
      },
      "source": [
        "- **Type of experiment** : Superiority Test -> menguji apakah grup ad lebih efisien daripada grup psa (control)\n",
        "- **Find the right sample**\n",
        "![Screenshot 2025-07-31 205948.png](data:image/png;base64,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)\n",
        "\n"
      ]
    },
    {
      "cell_type": "markdown",
      "metadata": {
        "id": "SUZbekhKncxg"
      },
      "source": [
        "- Eligible users : semua user yang memenuhi syarat yang valid (tanpa adanya missing)\n",
        "- Durasi eksperimen : Disarankan selama 9 minggu untuk mencakup variasi hari dan ukuran sampel yang tersedia 588,101 user."
      ]
    },
    {
      "cell_type": "code",
      "execution_count": null,
      "metadata": {
        "id": "olFdsZvxncxg"
      },
      "outputs": [],
      "source": []
    }
  ],
  "metadata": {
    "colab": {
      "provenance": [],
      "include_colab_link": true
    },
    "kernelspec": {
      "display_name": "base",
      "language": "python",
      "name": "python3"
    },
    "language_info": {
      "codemirror_mode": {
        "name": "ipython",
        "version": 3
      },
      "file_extension": ".py",
      "mimetype": "text/x-python",
      "name": "python",
      "nbconvert_exporter": "python",
      "pygments_lexer": "ipython3",
      "version": "3.8.8"
    }
  },
  "nbformat": 4,
  "nbformat_minor": 0
}